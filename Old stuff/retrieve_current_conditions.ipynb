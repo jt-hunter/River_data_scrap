{
 "cells": [
  {
   "cell_type": "code",
   "execution_count": 1,
   "id": "a4c99107",
   "metadata": {},
   "outputs": [],
   "source": [
    "import requests \n",
    "from bs4 import BeautifulSoup as bsoup\n",
    "import datetime\n",
    "import pandas as pd\n",
    "import re\n",
    "import numpy as np\n",
    "import math"
   ]
  },
  {
   "cell_type": "code",
   "execution_count": 2,
   "id": "a5431d37",
   "metadata": {},
   "outputs": [],
   "source": [
    "littlefalls = '01646500' # DEPENDENT\n",
    "senecacreek = '01645000' # not used\n",
    "pointofrocks = '01638500'\n",
    "edwards_ferry = '01644148' # not used\n",
    "shepherdstown = '01618000'\n",
    "pawpaw = '01610000' # not used\n",
    "hancock = '01613000'\n",
    "springfield = '01608500'\n",
    "moorfield = '01608070' # not used\n",
    "\n",
    "# list to hold variables\n",
    "gage_list = [littlefalls, pointofrocks, shepherdstown, hancock, springfield]"
   ]
  },
  {
   "cell_type": "code",
   "execution_count": 3,
   "id": "92f2b56f",
   "metadata": {},
   "outputs": [],
   "source": [
    "def get_date_time():\n",
    "    d = dict() # build dict\n",
    "    \n",
    "    d['today'] = str(datetime.datetime.now().date()) # get today date\n",
    "    d['earlier_day'] = str(datetime.datetime.now().date() - datetime.timedelta(days=2)) # get today date\n",
    "    \n",
    "    \n",
    "    d['time_now'] = str(datetime.datetime.now().time())[:-3] # get time, remove unused digits\n",
    "    \n",
    "    return d    "
   ]
  },
  {
   "cell_type": "code",
   "execution_count": 4,
   "id": "6f8a0cca",
   "metadata": {},
   "outputs": [],
   "source": [
    "def clean_HTML_data(html_data):\n",
    "    location_of_data_start_in_html = re.search('10s', html_data) # find location of start of data\n",
    "    location_of_data_start_in_html = location_of_data_start_in_html.span()\n",
    "    html_data = html_data[(location_of_data_start_in_html[1]+2):] # add 2 to skip some slashes\n",
    "    html_data = html_data[2:]\n",
    "    html_data = html_data.replace('\\\\t' , ',')\n",
    "    html_data = html_data.split('\\\\n')\n",
    "    html_data = [sub.split(',') for sub in html_data]\n",
    "    html_data = html_data[:-1]\n",
    "    return html_data"
   ]
  },
  {
   "cell_type": "code",
   "execution_count": 5,
   "id": "1550b419",
   "metadata": {},
   "outputs": [],
   "source": [
    "# https://waterservices.usgs.gov/nwis/iv/?sites=01646500&parameterCd=00065&startDT=2023-09-06T10:14:30.299-05:00&endDT=2023-09-13T10:14:30.299-05:00&siteStatus=all&format=rdb\n",
    "\n",
    "def get_current_gage_heights(gage): # for gage in gage_list loop here\n",
    "    date_time = get_date_time()\n",
    "    url = 'https://waterservices.usgs.gov/nwis/iv/?sites=' + gage +\\\n",
    "        '&parameterCd=00065&startDT=' + date_time.get('earlier_day') + 'T' + date_time.get('time_now') + '-05:00' +\\\n",
    "        '&endDT=' + date_time.get('today') + 'T' + date_time.get('time_now') + '-05:00&siteStatus=all&format=rdb'                \n",
    "    req = requests.get(url)\n",
    "    if req.status_code == 200: # if webpage request is good...\n",
    "        datahtml = str(req.content)\n",
    "        if re.search('No sites found', datahtml): # if no gage or parameter found...\n",
    "            print('No parameter found')\n",
    "            df_func = pd.DataFrame()\n",
    "        else:\n",
    "            datahtml = clean_HTML_data(datahtml) # clean HTML function\n",
    "            df_func = pd.DataFrame(datahtml, columns=['USGS','ID','Date','Tz', gage,'P']) # name columns\n",
    "            df_func = df_func.drop(columns=['USGS','ID','Tz','P']) # drop unwanted variables\n",
    "    else:\n",
    "        print('request not good')\n",
    "        \n",
    "    return df_func\n",
    "                "
   ]
  },
  {
   "cell_type": "code",
   "execution_count": 7,
   "id": "22a98ff1",
   "metadata": {},
   "outputs": [],
   "source": [
    "def create_df(gage_list):\n",
    "    \n",
    "    df = pd.DataFrame()\n",
    "    df = get_current_gage_heights(gage_list[0]) # put only date/time values for little falls\n",
    "    df = df.drop(df.columns[1], axis=1) # removes data and leave just Dates to merge onto\n",
    "    \n",
    "    for gage in gage_list: \n",
    "        temp_df = get_current_gage_heights(gage) # get gage heights function\n",
    "    if temp_df.empty:\n",
    "        pass\n",
    "    else:\n",
    "        df = df.merge(temp_df, how='outer', left_on='Date', right_on='Date')\n",
    "    return df"
   ]
  },
  {
   "cell_type": "code",
   "execution_count": 8,
   "id": "65b0f7fb",
   "metadata": {},
   "outputs": [
    {
     "name": "stdout",
     "output_type": "stream",
     "text": [
      "Trying to merge 01646500\n",
      "Trying to merge 01638500\n",
      "Trying to merge 01618000\n",
      "Trying to merge 01613000\n",
      "Trying to merge 01608500\n"
     ]
    }
   ],
   "source": [
    "df = pd.DataFrame()\n",
    "df = get_current_gage_heights(gage_list[0])\n",
    "df = df.drop(df.columns[1], axis=1) # removes data and leave just Dates to merge onto\n",
    "df\n",
    "\n",
    "#Loop to cycle through every listed gage and parameter measurement\n",
    "for gage in gage_list: \n",
    "    print('Trying to merge '+ gage)\n",
    "    temp_df = get_current_gage_heights(gage)\n",
    "    if temp_df.empty:\n",
    "        pass\n",
    "    else:\n",
    "        df = df.merge(temp_df, how='outer', left_on='Date', right_on='Date')\n",
    "      "
   ]
  },
  {
   "cell_type": "code",
   "execution_count": 9,
   "id": "d1c94d70",
   "metadata": {},
   "outputs": [],
   "source": [
    "# check all variables and see if they all have the the needed values\n",
    "# if not, move the obs up one, until they all fit\n",
    "# this would adjust time the prediction time as well since each shift back is 15mins"
   ]
  },
  {
   "cell_type": "code",
   "execution_count": 10,
   "id": "277d775e",
   "metadata": {},
   "outputs": [],
   "source": [
    "\n",
    "# wait, predictions should be from current conditions into future\n",
    "# so current conditions are used to predict later conditions of little falls gage\n",
    "\n",
    "\n",
    "def reduce_to_needed_obs(df, shift):\n",
    "    # shift needs positive value loop to retrieve data farther back in past\n",
    "    \n",
    "    last_obs = -1\n",
    "    data_list = [] # empty ist of list data will go into\n",
    "    time_of_obs = df['Date'].values[(last_obs) - shift]\n",
    "    \n",
    "    # Springfield gage\n",
    "    data_list.append(df['01608500'].values[(last_obs) - shift]) # 17hrs\n",
    "    data_list.append(df['01608500'].values[(last_obs) - shift])\n",
    "    data_list.append(df['01608500'].values[(last_obs) - shift])\n",
    "    data_list.append(df['01608500'].values[(last_obs) - shift])\n",
    "    \n",
    "    # Hancock gage\n",
    "    data_list.append(df['01613000'].values[(last_obs) - shift])\n",
    "    \n",
    "    # Shepardstown gage\n",
    "    data_list.append(df['01618000'].values[(last_obs) - shift])\n",
    "    \n",
    "    # Point of Rocks gage\n",
    "    data_list.append(df['01638500'].values[(last_obs) - shift])\n",
    "    \n",
    "    \n",
    "    return data_list, time_of_obs"
   ]
  },
  {
   "cell_type": "code",
   "execution_count": 11,
   "id": "427d8a7a",
   "metadata": {},
   "outputs": [],
   "source": [
    "def loop_to_get_full_obs(df):\n",
    "    shift = 0\n",
    "    \n",
    "    # move observations back until all are not NaN\n",
    "    while any(pd.isnull(reduce_to_needed_obs(df, shift)[0])) == True:\n",
    "              shift += 1\n",
    "    \n",
    "    return reduce_to_needed_obs(df, shift)\n",
    "\n",
    "obs = loop_to_get_full_obs(df)"
   ]
  },
  {
   "cell_type": "code",
   "execution_count": 12,
   "id": "21a140aa",
   "metadata": {},
   "outputs": [],
   "source": [
    "def turn_obs_into_needed_np_array(input_obs_tuple):\n",
    "# for creating np array for use in model predict\n",
    "    \n",
    "    predict_data_lol = input_obs_tuple[0]\n",
    "    \n",
    "    predict_input_17hr = np.array([predict_data_lol[0], predict_data_lol[1], predict_data_lol[2], predict_data_lol[3]])\n",
    "    predict_input_15hr = np.array([predict_data_lol[0], predict_data_lol[4]])\n",
    "    predict_input_8hr = np.array([predict_data_lol[0], predict_data_lol[4], predict_data_lol[5]])\n",
    "    predict_input_4hr = np.array([predict_data_lol[0], predict_data_lol[4], predict_data_lol[5], predict_data_lol[6]])\n",
    "    \n",
    "    return predict_input_17hr, predict_input_15hr, predict_input_8hr, predict_input_4hr"
   ]
  },
  {
   "cell_type": "code",
   "execution_count": 13,
   "id": "77794870",
   "metadata": {},
   "outputs": [
    {
     "data": {
      "text/plain": [
       "(array(['0.99', '0.99', '0.99', '0.99'], dtype='<U4'),\n",
       " array(['0.99', '2.75'], dtype='<U4'),\n",
       " array(['0.99', '2.75', '1.72'], dtype='<U4'),\n",
       " array(['0.99', '2.75', '1.72', '0.87'], dtype='<U4'))"
      ]
     },
     "execution_count": 13,
     "metadata": {},
     "output_type": "execute_result"
    }
   ],
   "source": [
    "prediction_inputs = turn_obs_into_needed_np_array(obs)"
   ]
  },
  {
   "cell_type": "code",
   "execution_count": 15,
   "id": "15559486",
   "metadata": {},
   "outputs": [
    {
     "data": {
      "text/plain": [
       "(['0.99', '0.99', '0.99', '0.99', '2.75', '1.72', '0.87'], '2023-11-08 19:30')"
      ]
     },
     "execution_count": 15,
     "metadata": {},
     "output_type": "execute_result"
    }
   ],
   "source": [
    "obs"
   ]
  },
  {
   "cell_type": "code",
   "execution_count": null,
   "id": "ac78ce3c",
   "metadata": {},
   "outputs": [],
   "source": []
  },
  {
   "cell_type": "code",
   "execution_count": null,
   "id": "26f0f865",
   "metadata": {},
   "outputs": [],
   "source": []
  },
  {
   "cell_type": "code",
   "execution_count": null,
   "id": "d0de5d6a",
   "metadata": {},
   "outputs": [],
   "source": []
  },
  {
   "cell_type": "code",
   "execution_count": null,
   "id": "21cae3c7",
   "metadata": {},
   "outputs": [],
   "source": []
  }
 ],
 "metadata": {
  "kernelspec": {
   "display_name": "Python 3 (ipykernel)",
   "language": "python",
   "name": "python3"
  },
  "language_info": {
   "codemirror_mode": {
    "name": "ipython",
    "version": 3
   },
   "file_extension": ".py",
   "mimetype": "text/x-python",
   "name": "python",
   "nbconvert_exporter": "python",
   "pygments_lexer": "ipython3",
   "version": "3.8.16"
  }
 },
 "nbformat": 4,
 "nbformat_minor": 5
}
