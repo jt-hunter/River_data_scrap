{
 "cells": [
  {
   "cell_type": "code",
   "execution_count": 1,
   "id": "53267d88",
   "metadata": {},
   "outputs": [
    {
     "name": "stderr",
     "output_type": "stream",
     "text": [
      "2023-12-13 19:22:29.902594: I tensorflow/core/platform/cpu_feature_guard.cc:193] This TensorFlow binary is optimized with oneAPI Deep Neural Network Library (oneDNN) to use the following CPU instructions in performance-critical operations:  SSE4.1 SSE4.2 AVX AVX2 FMA\n",
      "To enable them in other operations, rebuild TensorFlow with the appropriate compiler flags.\n"
     ]
    }
   ],
   "source": [
    "import tensorflow as tf\n",
    "import numpy as np"
   ]
  },
  {
   "cell_type": "code",
   "execution_count": 2,
   "id": "650ed626",
   "metadata": {},
   "outputs": [
    {
     "name": "stdout",
     "output_type": "stream",
     "text": [
      "Trying to merge 01646500\n",
      "Trying to merge 01638500\n",
      "Trying to merge 01618000\n",
      "Trying to merge 01613000\n",
      "Trying to merge 01608500\n"
     ]
    }
   ],
   "source": [
    "# get inputs from other script\n",
    "from retriveve_conditions import prediction_inputs"
   ]
  },
  {
   "cell_type": "code",
   "execution_count": 3,
   "id": "5a1f2d4f",
   "metadata": {},
   "outputs": [
    {
     "name": "stderr",
     "output_type": "stream",
     "text": [
      "2023-12-13 19:22:52.664448: I tensorflow/core/platform/cpu_feature_guard.cc:193] This TensorFlow binary is optimized with oneAPI Deep Neural Network Library (oneDNN) to use the following CPU instructions in performance-critical operations:  SSE4.1 SSE4.2 AVX AVX2 FMA\n",
      "To enable them in other operations, rebuild TensorFlow with the appropriate compiler flags.\n"
     ]
    }
   ],
   "source": [
    "model_17hr = tf.keras.models.load_model('Models/model_17hrs.h5')\n",
    "model_15hr = tf.keras.models.load_model('Models/model_15hrs.h5')\n",
    "model_8hr = tf.keras.models.load_model('Models/model_8hrs.h5')\n",
    "model_4hr = tf.keras.models.load_model('Models/model_4hrs.h5')"
   ]
  },
  {
   "cell_type": "code",
   "execution_count": 4,
   "id": "2af06e41",
   "metadata": {
    "scrolled": true
   },
   "outputs": [
    {
     "name": "stdout",
     "output_type": "stream",
     "text": [
      "1/1 [==============================] - 0s 134ms/step\n"
     ]
    },
    {
     "data": {
      "text/plain": [
       "array([[3.578153]], dtype=float32)"
      ]
     },
     "execution_count": 4,
     "metadata": {},
     "output_type": "execute_result"
    }
   ],
   "source": [
    "model_17hr.predict(prediction_inputs[0].astype(float).reshape(1,4))"
   ]
  },
  {
   "cell_type": "code",
   "execution_count": 5,
   "id": "44f9945a",
   "metadata": {},
   "outputs": [
    {
     "name": "stdout",
     "output_type": "stream",
     "text": [
      "1/1 [==============================] - 0s 53ms/step\n"
     ]
    },
    {
     "data": {
      "text/plain": [
       "array([[3.7987776]], dtype=float32)"
      ]
     },
     "execution_count": 5,
     "metadata": {},
     "output_type": "execute_result"
    }
   ],
   "source": [
    "model_15hr.predict(prediction_inputs[1].astype(float).reshape(1,2))"
   ]
  },
  {
   "cell_type": "code",
   "execution_count": 6,
   "id": "3ccca271",
   "metadata": {},
   "outputs": [
    {
     "name": "stdout",
     "output_type": "stream",
     "text": [
      "1/1 [==============================] - 0s 56ms/step\n"
     ]
    },
    {
     "data": {
      "text/plain": [
       "array([[3.8922486]], dtype=float32)"
      ]
     },
     "execution_count": 6,
     "metadata": {},
     "output_type": "execute_result"
    }
   ],
   "source": [
    "model_8hr.predict(prediction_inputs[2].astype(float).reshape(1,3))"
   ]
  },
  {
   "cell_type": "code",
   "execution_count": 7,
   "id": "0cf58756",
   "metadata": {},
   "outputs": [
    {
     "name": "stdout",
     "output_type": "stream",
     "text": [
      "1/1 [==============================] - 0s 61ms/step\n"
     ]
    },
    {
     "data": {
      "text/plain": [
       "array([[3.9170809]], dtype=float32)"
      ]
     },
     "execution_count": 7,
     "metadata": {},
     "output_type": "execute_result"
    }
   ],
   "source": [
    "model_4hr.predict(prediction_inputs[3].astype(float).reshape(1,4))"
   ]
  },
  {
   "cell_type": "code",
   "execution_count": 10,
   "id": "7d5cb224",
   "metadata": {},
   "outputs": [
    {
     "name": "stdout",
     "output_type": "stream",
     "text": [
      "WARNING:tensorflow:6 out of the last 6 calls to <function Model.make_predict_function.<locals>.predict_function at 0x7fa22c2a95e0> triggered tf.function retracing. Tracing is expensive and the excessive number of tracings could be due to (1) creating @tf.function repeatedly in a loop, (2) passing tensors with different shapes, (3) passing Python objects instead of tensors. For (1), please define your @tf.function outside of the loop. For (2), @tf.function has reduce_retracing=True option that can avoid unnecessary retracing. For (3), please refer to https://www.tensorflow.org/guide/function#controlling_retracing and https://www.tensorflow.org/api_docs/python/tf/function for  more details.\n",
      "1/1 [==============================] - 0s 63ms/step\n"
     ]
    },
    {
     "data": {
      "text/plain": [
       "array([[3.9170809]], dtype=float32)"
      ]
     },
     "execution_count": 10,
     "metadata": {},
     "output_type": "execute_result"
    }
   ],
   "source": [
    "tf.keras.models.load_model('Models/model_4hrs.h5').predict(prediction_inputs[3].astype(float).reshape(1,4))"
   ]
  },
  {
   "cell_type": "code",
   "execution_count": 8,
   "id": "91dcd997",
   "metadata": {},
   "outputs": [
    {
     "data": {
      "text/plain": [
       "(array(['2.15', '2.15', '2.15', '2.15'], dtype='<U4'),\n",
       " array(['2.15', '4.80'], dtype='<U4'),\n",
       " array(['2.15', '4.80', '3.88'], dtype='<U4'),\n",
       " array(['2.15', '4.80', '3.88', '3.08'], dtype='<U4'))"
      ]
     },
     "execution_count": 8,
     "metadata": {},
     "output_type": "execute_result"
    }
   ],
   "source": [
    "prediction_inputs"
   ]
  },
  {
   "cell_type": "code",
   "execution_count": 1,
   "id": "1c5ae694",
   "metadata": {},
   "outputs": [
    {
     "name": "stderr",
     "output_type": "stream",
     "text": [
      "2023-12-19 19:51:29.301153: I tensorflow/core/platform/cpu_feature_guard.cc:193] This TensorFlow binary is optimized with oneAPI Deep Neural Network Library (oneDNN) to use the following CPU instructions in performance-critical operations:  SSE4.1 SSE4.2 AVX AVX2 FMA\n",
      "To enable them in other operations, rebuild TensorFlow with the appropriate compiler flags.\n"
     ]
    },
    {
     "name": "stdout",
     "output_type": "stream",
     "text": [
      "Trying to merge 01646500\n",
      "Trying to merge 01638500\n",
      "Trying to merge 01618000\n",
      "Trying to merge 01613000\n",
      "Trying to merge 01608500\n"
     ]
    }
   ],
   "source": [
    "import tensorflow as tf\n",
    "import numpy as np\n",
    "\n",
    "# get inputs from other script\n",
    "from retriveve_conditions import prediction_inputs\n",
    "\n",
    "# func to get predict output to string\n",
    "def predict_to_string(predict):\n",
    "    predict = str(predict[0][0])[:4]\n",
    "    return predict\n",
    "\n",
    "# load model and get prediction from inputs\n",
    "def get_predictions():\n",
    "    predict_17hr = predict_to_string(tf.keras.models.load_model('Models/model_17hrs.h5')\\\n",
    "                                     .predict(prediction_inputs[0].astype(float).reshape(1,4)))\n",
    "    predict_15hr = predict_to_string(tf.keras.models.load_model('Models/model_15hrs.h5')\\\n",
    "                                     .predict(prediction_inputs[1].astype(float).reshape(1,2)))\n",
    "    predict_8hr = predict_to_string(tf.keras.models.load_model('Models/model_8hrs.h5')\\\n",
    "                                    .predict(prediction_inputs[2].astype(float).reshape(1,3)))\n",
    "    predict_4hr = predict_to_string(tf.keras.models.load_model('Models/model_4hrs.h5')\\\n",
    "                                    .predict(prediction_inputs[3].astype(float).reshape(1,4)))\n",
    "    return predict_17hr, predict_15hr, predict_8hr, predict_4hr\n"
   ]
  },
  {
   "cell_type": "code",
   "execution_count": 2,
   "id": "9222eb90",
   "metadata": {},
   "outputs": [
    {
     "name": "stderr",
     "output_type": "stream",
     "text": [
      "2023-12-19 19:51:53.606602: I tensorflow/core/platform/cpu_feature_guard.cc:193] This TensorFlow binary is optimized with oneAPI Deep Neural Network Library (oneDNN) to use the following CPU instructions in performance-critical operations:  SSE4.1 SSE4.2 AVX AVX2 FMA\n",
      "To enable them in other operations, rebuild TensorFlow with the appropriate compiler flags.\n"
     ]
    },
    {
     "name": "stdout",
     "output_type": "stream",
     "text": [
      "1/1 [==============================] - 0s 92ms/step\n",
      "1/1 [==============================] - 0s 55ms/step\n",
      "1/1 [==============================] - 0s 53ms/step\n",
      "1/1 [==============================] - 0s 58ms/step\n"
     ]
    },
    {
     "data": {
      "text/plain": [
       "('3.75', '4.37', '4.72', '5.11')"
      ]
     },
     "execution_count": 2,
     "metadata": {},
     "output_type": "execute_result"
    }
   ],
   "source": [
    "test = get_predictions()\n",
    "test"
   ]
  },
  {
   "cell_type": "code",
   "execution_count": null,
   "id": "b4f60966",
   "metadata": {},
   "outputs": [],
   "source": []
  }
 ],
 "metadata": {
  "kernelspec": {
   "display_name": "Python 3 (ipykernel)",
   "language": "python",
   "name": "python3"
  },
  "language_info": {
   "codemirror_mode": {
    "name": "ipython",
    "version": 3
   },
   "file_extension": ".py",
   "mimetype": "text/x-python",
   "name": "python",
   "nbconvert_exporter": "python",
   "pygments_lexer": "ipython3",
   "version": "3.8.16"
  }
 },
 "nbformat": 4,
 "nbformat_minor": 5
}
