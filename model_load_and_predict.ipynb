{
 "cells": [
  {
   "cell_type": "code",
   "execution_count": 2,
   "id": "53267d88",
   "metadata": {},
   "outputs": [
    {
     "name": "stderr",
     "output_type": "stream",
     "text": [
      "2023-11-08 21:34:19.428840: I tensorflow/core/platform/cpu_feature_guard.cc:193] This TensorFlow binary is optimized with oneAPI Deep Neural Network Library (oneDNN) to use the following CPU instructions in performance-critical operations:  SSE4.1 SSE4.2 AVX AVX2 FMA\n",
      "To enable them in other operations, rebuild TensorFlow with the appropriate compiler flags.\n"
     ]
    }
   ],
   "source": [
    "import tensorflow as tf\n",
    "import prediction_inputs from retrieve_current_conditions"
   ]
  },
  {
   "cell_type": "code",
   "execution_count": 3,
   "id": "5a1f2d4f",
   "metadata": {},
   "outputs": [
    {
     "name": "stderr",
     "output_type": "stream",
     "text": [
      "2023-11-08 21:34:35.813892: I tensorflow/core/platform/cpu_feature_guard.cc:193] This TensorFlow binary is optimized with oneAPI Deep Neural Network Library (oneDNN) to use the following CPU instructions in performance-critical operations:  SSE4.1 SSE4.2 AVX AVX2 FMA\n",
      "To enable them in other operations, rebuild TensorFlow with the appropriate compiler flags.\n"
     ]
    }
   ],
   "source": [
    "model_17hr = tf.keras.models.load_model('Models/model_17hrs.h5')\n",
    "model_15hr = tf.keras.models.load_model('Models/model_15hrs.h5')\n",
    "model_8hr = tf.keras.models.load_model('Models/model_8hrs.h5')\n",
    "model_4hr = tf.keras.models.load_model('Models/model_4hrs.h5')\n"
   ]
  },
  {
   "cell_type": "code",
   "execution_count": null,
   "id": "2af06e41",
   "metadata": {},
   "outputs": [],
   "source": [
    "# example to make one/two predicts\n",
    "samples_to_predict = np.array(np.array([[5, 5, 5, 5], [4, 4, 4, 4]]))\n",
    "\n",
    "new_model.predict(samples_to_predict)"
   ]
  },
  {
   "cell_type": "code",
   "execution_count": null,
   "id": "44f9945a",
   "metadata": {},
   "outputs": [],
   "source": []
  },
  {
   "cell_type": "code",
   "execution_count": null,
   "id": "3ccca271",
   "metadata": {},
   "outputs": [],
   "source": []
  }
 ],
 "metadata": {
  "kernelspec": {
   "display_name": "Python 3 (ipykernel)",
   "language": "python",
   "name": "python3"
  },
  "language_info": {
   "codemirror_mode": {
    "name": "ipython",
    "version": 3
   },
   "file_extension": ".py",
   "mimetype": "text/x-python",
   "name": "python",
   "nbconvert_exporter": "python",
   "pygments_lexer": "ipython3",
   "version": "3.8.16"
  }
 },
 "nbformat": 4,
 "nbformat_minor": 5
}
