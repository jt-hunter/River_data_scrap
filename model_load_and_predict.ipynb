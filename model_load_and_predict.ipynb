{
 "cells": [
  {
   "cell_type": "code",
   "execution_count": 1,
   "id": "53267d88",
   "metadata": {},
   "outputs": [
    {
     "name": "stderr",
     "output_type": "stream",
     "text": [
      "2023-11-14 20:04:41.710503: I tensorflow/core/platform/cpu_feature_guard.cc:193] This TensorFlow binary is optimized with oneAPI Deep Neural Network Library (oneDNN) to use the following CPU instructions in performance-critical operations:  SSE4.1 SSE4.2 AVX AVX2 FMA\n",
      "To enable them in other operations, rebuild TensorFlow with the appropriate compiler flags.\n"
     ]
    }
   ],
   "source": [
    "import tensorflow as tf\n",
    "import numpy as np"
   ]
  },
  {
   "cell_type": "code",
   "execution_count": 2,
   "id": "650ed626",
   "metadata": {},
   "outputs": [
    {
     "name": "stdout",
     "output_type": "stream",
     "text": [
      "Trying to merge 01646500\n",
      "Trying to merge 01638500\n",
      "Trying to merge 01618000\n",
      "Trying to merge 01613000\n",
      "Trying to merge 01608500\n"
     ]
    }
   ],
   "source": [
    "# get inputs from other script\n",
    "from retriveve_conditions import prediction_inputs"
   ]
  },
  {
   "cell_type": "code",
   "execution_count": 3,
   "id": "5a1f2d4f",
   "metadata": {},
   "outputs": [
    {
     "name": "stderr",
     "output_type": "stream",
     "text": [
      "2023-11-14 20:05:05.109773: I tensorflow/core/platform/cpu_feature_guard.cc:193] This TensorFlow binary is optimized with oneAPI Deep Neural Network Library (oneDNN) to use the following CPU instructions in performance-critical operations:  SSE4.1 SSE4.2 AVX AVX2 FMA\n",
      "To enable them in other operations, rebuild TensorFlow with the appropriate compiler flags.\n"
     ]
    }
   ],
   "source": [
    "model_17hr = tf.keras.models.load_model('Models/model_17hrs.h5')\n",
    "model_15hr = tf.keras.models.load_model('Models/model_15hrs.h5')\n",
    "model_8hr = tf.keras.models.load_model('Models/model_8hrs.h5')\n",
    "model_4hr = tf.keras.models.load_model('Models/model_4hrs.h5')"
   ]
  },
  {
   "cell_type": "code",
   "execution_count": 4,
   "id": "2af06e41",
   "metadata": {
    "scrolled": true
   },
   "outputs": [
    {
     "name": "stdout",
     "output_type": "stream",
     "text": [
      "1/1 [==============================] - 0s 86ms/step\n"
     ]
    },
    {
     "data": {
      "text/plain": [
       "array([[2.7857475]], dtype=float32)"
      ]
     },
     "execution_count": 4,
     "metadata": {},
     "output_type": "execute_result"
    }
   ],
   "source": [
    "model_17hr.predict(prediction_inputs[0].astype(float).reshape(1,4))"
   ]
  },
  {
   "cell_type": "code",
   "execution_count": 7,
   "id": "44f9945a",
   "metadata": {},
   "outputs": [
    {
     "name": "stdout",
     "output_type": "stream",
     "text": [
      "1/1 [==============================] - 0s 52ms/step\n"
     ]
    },
    {
     "data": {
      "text/plain": [
       "array([[2.808885]], dtype=float32)"
      ]
     },
     "execution_count": 7,
     "metadata": {},
     "output_type": "execute_result"
    }
   ],
   "source": [
    "model_15hr.predict(prediction_inputs[1].astype(float).reshape(1,2))"
   ]
  },
  {
   "cell_type": "code",
   "execution_count": 9,
   "id": "3ccca271",
   "metadata": {},
   "outputs": [
    {
     "name": "stdout",
     "output_type": "stream",
     "text": [
      "1/1 [==============================] - 0s 54ms/step\n"
     ]
    },
    {
     "data": {
      "text/plain": [
       "array([[2.7977257]], dtype=float32)"
      ]
     },
     "execution_count": 9,
     "metadata": {},
     "output_type": "execute_result"
    }
   ],
   "source": [
    "model_8hr.predict(prediction_inputs[2].astype(float).reshape(1,3))"
   ]
  },
  {
   "cell_type": "code",
   "execution_count": 10,
   "id": "0cf58756",
   "metadata": {},
   "outputs": [
    {
     "name": "stdout",
     "output_type": "stream",
     "text": [
      "1/1 [==============================] - 0s 59ms/step\n"
     ]
    },
    {
     "data": {
      "text/plain": [
       "array([[2.7558134]], dtype=float32)"
      ]
     },
     "execution_count": 10,
     "metadata": {},
     "output_type": "execute_result"
    }
   ],
   "source": [
    "model_4hr.predict(prediction_inputs[3].astype(float).reshape(1,4))"
   ]
  },
  {
   "cell_type": "code",
   "execution_count": 6,
   "id": "91dcd997",
   "metadata": {},
   "outputs": [
    {
     "data": {
      "text/plain": [
       "(array(['1.13', '1.13', '1.13', '1.13'], dtype='<U4'),\n",
       " array(['1.13', '2.80'], dtype='<U4'),\n",
       " array(['1.13', '2.80', '1.79'], dtype='<U4'),\n",
       " array(['1.13', '2.80', '1.79', '0.91'], dtype='<U4'))"
      ]
     },
     "execution_count": 6,
     "metadata": {},
     "output_type": "execute_result"
    }
   ],
   "source": [
    "prediction_inputs"
   ]
  },
  {
   "cell_type": "code",
   "execution_count": null,
   "id": "1c5ae694",
   "metadata": {},
   "outputs": [],
   "source": []
  },
  {
   "cell_type": "code",
   "execution_count": null,
   "id": "9222eb90",
   "metadata": {},
   "outputs": [],
   "source": []
  }
 ],
 "metadata": {
  "kernelspec": {
   "display_name": "Python 3 (ipykernel)",
   "language": "python",
   "name": "python3"
  },
  "language_info": {
   "codemirror_mode": {
    "name": "ipython",
    "version": 3
   },
   "file_extension": ".py",
   "mimetype": "text/x-python",
   "name": "python",
   "nbconvert_exporter": "python",
   "pygments_lexer": "ipython3",
   "version": "3.8.16"
  }
 },
 "nbformat": 4,
 "nbformat_minor": 5
}
