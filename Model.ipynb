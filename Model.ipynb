{
 "cells": [
  {
   "cell_type": "code",
   "execution_count": 6,
   "id": "4e058df3",
   "metadata": {},
   "outputs": [],
   "source": [
    "import pandas as pd\n",
    "import os\n",
    "\n",
    "current_directory = os.listdir()\n",
    "match = [match for match in current_directory if 'for_model' in match]\n",
    "match = match[0]\n",
    "\n",
    "df = pd.read_csv(match, index_col=0)\n",
    "\n"
   ]
  },
  {
   "cell_type": "code",
   "execution_count": 7,
   "id": "a0b914ac",
   "metadata": {},
   "outputs": [
    {
     "name": "stdout",
     "output_type": "stream",
     "text": [
      "<class 'pandas.core.frame.DataFrame'>\n",
      "Int64Index: 99178 entries, 0 to 99177\n",
      "Data columns (total 14 columns):\n",
      " #   Column          Non-Null Count  Dtype  \n",
      "---  ------          --------------  -----  \n",
      " 0   Date            99178 non-null  object \n",
      " 1   01646500-00065  99174 non-null  float64\n",
      " 2   01646500-00060  99174 non-null  float64\n",
      " 3   01645000-00065  99178 non-null  float64\n",
      " 4   01645000-00060  99178 non-null  float64\n",
      " 5   01638500-00065  99178 non-null  float64\n",
      " 6   01638500-00060  99178 non-null  int64  \n",
      " 7   01644148-00065  99178 non-null  float64\n",
      " 8   01618000-00065  99177 non-null  float64\n",
      " 9   01618000-00060  99177 non-null  float64\n",
      " 10  01613000-00065  99178 non-null  float64\n",
      " 11  01613000-00060  99178 non-null  int64  \n",
      " 12  01608500-00065  99178 non-null  float64\n",
      " 13  01608500-00060  99178 non-null  int64  \n",
      "dtypes: float64(10), int64(3), object(1)\n",
      "memory usage: 11.4+ MB\n"
     ]
    }
   ],
   "source": [
    "df.info()"
   ]
  },
  {
   "cell_type": "markdown",
   "id": "e3622b8b",
   "metadata": {},
   "source": [
    "### Remeberig from the analysis workbook...<br>\n",
    "Highest lag correlation for each stations gage height to target gage height<br>\n",
    "01645000 \"Seneca Creek\": around 145<br>\n",
    "01644148 \"Edwards Ferry\": around 13<br>\n",
    "01638500 \"Point of Rocks\": around 16<br>\n",
    "01618000 \"Shepardstown\": around 34<br>\n",
    "01613000 \"Hancock\": around 63<br>\n",
    "01608500 \"Springfield WV\": around 70<br>\n",
    "<br>\n",
    "Remebering each observation lag is 15 mins."
   ]
  },
  {
   "cell_type": "code",
   "execution_count": 14,
   "id": "44fde1e9",
   "metadata": {},
   "outputs": [],
   "source": [
    "# new shifted features\n",
    "df['01645000-00065_shifted_145'] = df['01645000-00065'].shift(145)\n",
    "df['01644148-00065_shifted_13'] = df['01644148-00065'].shift(13)\n",
    "df['01638500-00065_shifted_16'] = df['01638500-00065'].shift(16)\n",
    "df['01618000-00065_shifted_34'] = df['01618000-00065'].shift(34)\n",
    "df['01613000-00065_shifted_63'] = df['01613000-00065'].shift(63)\n",
    "df['01608500-00065_shifted_70'] = df['01608500-00065'].shift(70)\n"
   ]
  },
  {
   "cell_type": "code",
   "execution_count": 20,
   "id": "b8dc707c",
   "metadata": {},
   "outputs": [],
   "source": [
    "# assign input and target features\n",
    "x_features = df[['01645000-00065_shifted_145', '01644148-00065_shifted_13', '01638500-00065_shifted_16', \\\n",
    "                '01618000-00065_shifted_34', '01613000-00065_shifted_63', '01608500-00065_shifted_70']]\n",
    "y_feature = df[['01646500-00065']]"
   ]
  },
  {
   "cell_type": "code",
   "execution_count": 27,
   "id": "3af54227",
   "metadata": {},
   "outputs": [
    {
     "ename": "SyntaxError",
     "evalue": "invalid syntax (220757595.py, line 2)",
     "output_type": "error",
     "traceback": [
      "\u001b[0;36m  File \u001b[0;32m\"/var/folders/9b/4_3pqpvx3fs3ccpkbgvs21n40000gp/T/ipykernel_7455/220757595.py\"\u001b[0;36m, line \u001b[0;32m2\u001b[0m\n\u001b[0;31m    import scikit-learn\u001b[0m\n\u001b[0m                 ^\u001b[0m\n\u001b[0;31mSyntaxError\u001b[0m\u001b[0;31m:\u001b[0m invalid syntax\n"
     ]
    }
   ],
   "source": [
    "# scaling input features\n",
    "import scikit-learn\n",
    "\n",
    "X_scaled = StandardScaler().fit_transform(X)"
   ]
  },
  {
   "cell_type": "code",
   "execution_count": null,
   "id": "59db5ad3",
   "metadata": {},
   "outputs": [],
   "source": []
  },
  {
   "cell_type": "code",
   "execution_count": null,
   "id": "ed87bb7a",
   "metadata": {},
   "outputs": [],
   "source": []
  },
  {
   "cell_type": "code",
   "execution_count": 18,
   "id": "d795cc2a",
   "metadata": {},
   "outputs": [],
   "source": [
    "# adjust shape for how many input variables created\n",
    "\n",
    "import tensorflow as tf\n",
    "\n",
    "model = tf.keras.models.Sequential([\n",
    "    tf.keras.layers.Dense(25, activation='relu', input_shape=(10,)),\n",
    "    tf.keras.layers.Dropout(0.2),\n",
    "    tf.keras.layers.Dense(10, activation='relu'),    \n",
    "    tf.keras.layers.Dense(10, activation='relu')\n",
    "])\n",
    "\n",
    "model.compile(optimizer='sgd',\n",
    "              loss='mse',\n",
    "              metrics=['accuracy'])\n",
    "\n"
   ]
  },
  {
   "cell_type": "code",
   "execution_count": null,
   "id": "0af282bb",
   "metadata": {},
   "outputs": [],
   "source": []
  }
 ],
 "metadata": {
  "kernelspec": {
   "display_name": "Python 3 (ipykernel)",
   "language": "python",
   "name": "python3"
  },
  "language_info": {
   "codemirror_mode": {
    "name": "ipython",
    "version": 3
   },
   "file_extension": ".py",
   "mimetype": "text/x-python",
   "name": "python",
   "nbconvert_exporter": "python",
   "pygments_lexer": "ipython3",
   "version": "3.8.8"
  }
 },
 "nbformat": 4,
 "nbformat_minor": 5
}
