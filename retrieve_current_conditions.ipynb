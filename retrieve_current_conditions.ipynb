{
 "cells": [
  {
   "cell_type": "code",
   "execution_count": 25,
   "id": "a4c99107",
   "metadata": {},
   "outputs": [],
   "source": [
    "import requests \n",
    "from bs4 import BeautifulSoup as bsoup\n",
    "import datetime\n",
    "import pandas as pd\n",
    "import re\n",
    "import numpy as np"
   ]
  },
  {
   "cell_type": "code",
   "execution_count": 2,
   "id": "a5431d37",
   "metadata": {},
   "outputs": [],
   "source": [
    "littlefalls = '01646500' # DEPENDENT\n",
    "senecacreek = '01645000' # not used\n",
    "pointofrocks = '01638500'\n",
    "edwards_ferry = '01644148' # not used\n",
    "shepherdstown = '01618000'\n",
    "pawpaw = '01610000' # not used\n",
    "hancock = '01613000'\n",
    "springfield = '01608500'\n",
    "moorfield = '01608070' # not used\n",
    "\n",
    "# list to hold variables\n",
    "gage_list = [littlefalls, pointofrocks, shepherdstown, hancock, springfield]"
   ]
  },
  {
   "cell_type": "code",
   "execution_count": 3,
   "id": "92f2b56f",
   "metadata": {},
   "outputs": [],
   "source": [
    "def get_date_time():\n",
    "    d = dict() # build dict\n",
    "    \n",
    "    d['today'] = str(datetime.datetime.now().date()) # get today date\n",
    "    d['earlier_day'] = str(datetime.datetime.now().date() - datetime.timedelta(days=2)) # get today date\n",
    "    \n",
    "    \n",
    "    d['time_now'] = str(datetime.datetime.now().time())[:-3] # get time, remove unused digits\n",
    "    \n",
    "    return d    "
   ]
  },
  {
   "cell_type": "code",
   "execution_count": 4,
   "id": "6f8a0cca",
   "metadata": {},
   "outputs": [],
   "source": [
    "def clean_HTML_data(html_data):\n",
    "    location_of_data_start_in_html = re.search('10s', html_data) # find location of start of data\n",
    "    location_of_data_start_in_html = location_of_data_start_in_html.span()\n",
    "    html_data = html_data[(location_of_data_start_in_html[1]+2):] # add 2 to skip some slashes\n",
    "    html_data = html_data[2:]\n",
    "    html_data = html_data.replace('\\\\t' , ',')\n",
    "    html_data = html_data.split('\\\\n')\n",
    "    html_data = [sub.split(',') for sub in html_data]\n",
    "    html_data = html_data[:-1]\n",
    "    return html_data"
   ]
  },
  {
   "cell_type": "code",
   "execution_count": 5,
   "id": "1550b419",
   "metadata": {},
   "outputs": [],
   "source": [
    "# https://waterservices.usgs.gov/nwis/iv/?sites=01646500&parameterCd=00065&startDT=2023-09-06T10:14:30.299-05:00&endDT=2023-09-13T10:14:30.299-05:00&siteStatus=all&format=rdb\n",
    "\n",
    "def get_current_gage_heights(gage): # for gage in gage_list loop here\n",
    "    date_time = get_date_time()\n",
    "    url = 'https://waterservices.usgs.gov/nwis/iv/?sites=' + gage +\\\n",
    "        '&parameterCd=00065&startDT=' + date_time.get('earlier_day') + 'T' + date_time.get('time_now') + '-05:00' +\\\n",
    "        '&endDT=' + date_time.get('today') + 'T' + date_time.get('time_now') + '-05:00&siteStatus=all&format=rdb'                \n",
    "    req = requests.get(url)\n",
    "    if req.status_code == 200: # if webpage request is good...\n",
    "        datahtml = str(req.content)\n",
    "        if re.search('No sites found', datahtml): # if no gage or parameter found...\n",
    "            print('No parameter found')\n",
    "            df_func = pd.DataFrame()\n",
    "        else:\n",
    "            datahtml = clean_HTML_data(datahtml) # clean HTML function\n",
    "            df_func = pd.DataFrame(datahtml, columns=['USGS','ID','Date','Tz', gage,'P']) # name columns\n",
    "            df_func = df_func.drop(columns=['USGS','ID','Tz','P']) # drop unwanted variables\n",
    "    else:\n",
    "        print('request not good')\n",
    "        \n",
    "    return df_func\n",
    "                "
   ]
  },
  {
   "cell_type": "code",
   "execution_count": 6,
   "id": "22a98ff1",
   "metadata": {},
   "outputs": [
    {
     "data": {
      "text/html": [
       "<div>\n",
       "<style scoped>\n",
       "    .dataframe tbody tr th:only-of-type {\n",
       "        vertical-align: middle;\n",
       "    }\n",
       "\n",
       "    .dataframe tbody tr th {\n",
       "        vertical-align: top;\n",
       "    }\n",
       "\n",
       "    .dataframe thead th {\n",
       "        text-align: right;\n",
       "    }\n",
       "</style>\n",
       "<table border=\"1\" class=\"dataframe\">\n",
       "  <thead>\n",
       "    <tr style=\"text-align: right;\">\n",
       "      <th></th>\n",
       "      <th>Date</th>\n",
       "    </tr>\n",
       "  </thead>\n",
       "  <tbody>\n",
       "    <tr>\n",
       "      <th>0</th>\n",
       "      <td>2023-10-04 11:45</td>\n",
       "    </tr>\n",
       "    <tr>\n",
       "      <th>1</th>\n",
       "      <td>2023-10-04 12:00</td>\n",
       "    </tr>\n",
       "    <tr>\n",
       "      <th>2</th>\n",
       "      <td>2023-10-04 12:15</td>\n",
       "    </tr>\n",
       "    <tr>\n",
       "      <th>3</th>\n",
       "      <td>2023-10-04 12:30</td>\n",
       "    </tr>\n",
       "    <tr>\n",
       "      <th>4</th>\n",
       "      <td>2023-10-04 12:45</td>\n",
       "    </tr>\n",
       "    <tr>\n",
       "      <th>...</th>\n",
       "      <td>...</td>\n",
       "    </tr>\n",
       "    <tr>\n",
       "      <th>180</th>\n",
       "      <td>2023-10-06 08:45</td>\n",
       "    </tr>\n",
       "    <tr>\n",
       "      <th>181</th>\n",
       "      <td>2023-10-06 09:00</td>\n",
       "    </tr>\n",
       "    <tr>\n",
       "      <th>182</th>\n",
       "      <td>2023-10-06 09:15</td>\n",
       "    </tr>\n",
       "    <tr>\n",
       "      <th>183</th>\n",
       "      <td>2023-10-06 09:30</td>\n",
       "    </tr>\n",
       "    <tr>\n",
       "      <th>184</th>\n",
       "      <td>2023-10-06 09:45</td>\n",
       "    </tr>\n",
       "  </tbody>\n",
       "</table>\n",
       "<p>185 rows × 1 columns</p>\n",
       "</div>"
      ],
      "text/plain": [
       "                 Date\n",
       "0    2023-10-04 11:45\n",
       "1    2023-10-04 12:00\n",
       "2    2023-10-04 12:15\n",
       "3    2023-10-04 12:30\n",
       "4    2023-10-04 12:45\n",
       "..                ...\n",
       "180  2023-10-06 08:45\n",
       "181  2023-10-06 09:00\n",
       "182  2023-10-06 09:15\n",
       "183  2023-10-06 09:30\n",
       "184  2023-10-06 09:45\n",
       "\n",
       "[185 rows x 1 columns]"
      ]
     },
     "execution_count": 6,
     "metadata": {},
     "output_type": "execute_result"
    }
   ],
   "source": [
    "df = pd.DataFrame()\n",
    "df = get_current_gage_heights(gage_list[0])\n",
    "df = df.drop(df.columns[1], axis=1) # removes data and leave just Dates to merge onto\n",
    "df"
   ]
  },
  {
   "cell_type": "code",
   "execution_count": 18,
   "id": "65b0f7fb",
   "metadata": {},
   "outputs": [
    {
     "name": "stdout",
     "output_type": "stream",
     "text": [
      "Trying to merge 01646500\n",
      "Trying to merge 01638500\n",
      "Trying to merge 01618000\n",
      "Trying to merge 01613000\n",
      "Trying to merge 01608500\n",
      "Saving...\n",
      "Done\n"
     ]
    }
   ],
   "source": [
    "df = pd.DataFrame()\n",
    "df = get_current_gage_heights(gage_list[0])\n",
    "df = df.drop(df.columns[1], axis=1) # removes data and leave just Dates to merge onto\n",
    "df\n",
    "\n",
    "#Loop to cycle through every listed gage and parameter measurement\n",
    "for gage in gage_list: \n",
    "    print('Trying to merge '+ gage)\n",
    "    temp_df = get_current_gage_heights(gage)\n",
    "    if temp_df.empty:\n",
    "        pass\n",
    "    else:\n",
    "        df = df.merge(temp_df, how='outer', left_on='Date', right_on='Date')\n",
    "\n",
    "date_time = get_date_time()\n",
    "print('Saving...')\n",
    "df.to_csv(date_time.get('earlier_day') + '_throught_'+ date_time.get('today') + '_retrieve_' + '.csv')\n",
    "print('Done')       "
   ]
  },
  {
   "cell_type": "code",
   "execution_count": null,
   "id": "d1c94d70",
   "metadata": {},
   "outputs": [],
   "source": [
    "# check all variables and see if they all have the the needed values\n",
    "# if not, move the obs up one, until they all fit\n",
    "# this would adjust time the prediction time as well since each shift back is 15mins"
   ]
  },
  {
   "cell_type": "code",
   "execution_count": 19,
   "id": "277d775e",
   "metadata": {},
   "outputs": [],
   "source": [
    "def reduce_to_needed_obs(df, shift):\n",
    "    # shift needs positive value loop to retrieve data farther back in past\n",
    "    gage_index_list = [[-69, -70, -71, -72], [-61], [-33], [-17]]\n",
    "    data_list = [[],[],[],[]] # empty ist of list data will go into\n",
    "    \n",
    "    # Springfield gage\n",
    "    data_list[0].append(df['01608500'].values[(gage_index_list[0][0]) - shift]) # 17hrs\n",
    "    data_list[0].append(df['01608500'].values[(gage_index_list[0][1]) - shift])\n",
    "    data_list[0].append(df['01608500'].values[(gage_index_list[0][2]) - shift])\n",
    "    data_list[0].append(df['01608500'].values[(gage_index_list[0][3]) - shift])\n",
    "    \n",
    "    # Hancock gage\n",
    "    data_list[1].append(df['01613000'].values[(gage_index_list[1][0]) - shift])\n",
    "    \n",
    "    # Shepardstown gage\n",
    "    data_list[2].append(df['01618000'].values[(gage_index_list[2][0]) - shift])\n",
    "    \n",
    "    # Point of Rocks gage\n",
    "    data_list[3].append(df['01638500'].values[(gage_index_list[3][0]) - shift])\n",
    "    \n",
    "    \n",
    "    return data_list"
   ]
  },
  {
   "cell_type": "code",
   "execution_count": 22,
   "id": "e0c8679f",
   "metadata": {},
   "outputs": [
    {
     "name": "stdout",
     "output_type": "stream",
     "text": [
      "[['1.16', '1.16', '1.16', '1.16'], ['2.91'], ['1.80'], ['1.19']]\n"
     ]
    }
   ],
   "source": [
    "predict_data_lol = reduce_to_needed_obs(df,0)\n",
    "print(predict_data_lol)"
   ]
  },
  {
   "cell_type": "code",
   "execution_count": 35,
   "id": "21a140aa",
   "metadata": {},
   "outputs": [],
   "source": [
    "# for creating np array for use in model predict\n",
    "\n",
    "predict_input_17hr = np.array(predict_data_lol[0])\n",
    "predict_input_15hr = np.array([predict_data_lol[0][0], predict_data_lol[1][0]])\n",
    "predict_input_8hr = np.array([predict_data_lol[0][0], predict_data_lol[1][0], predict_data_lol[2][0]])\n",
    "predict_input_4hr = np.array([predict_data_lol[0][0], predict_data_lol[1][0], predict_data_lol[2][0], predict_data_lol[3][0]])"
   ]
  },
  {
   "cell_type": "code",
   "execution_count": 36,
   "id": "77794870",
   "metadata": {},
   "outputs": [
    {
     "data": {
      "text/plain": [
       "array(['1.16', '2.91', '1.80', '1.19'], dtype='<U4')"
      ]
     },
     "execution_count": 36,
     "metadata": {},
     "output_type": "execute_result"
    }
   ],
   "source": [
    "predict_input_17hr\n",
    "predict_input_15hr\n",
    "predict_input_8hr\n",
    "predict_input_4hr"
   ]
  },
  {
   "cell_type": "code",
   "execution_count": 27,
   "id": "15559486",
   "metadata": {},
   "outputs": [
    {
     "name": "stderr",
     "output_type": "stream",
     "text": [
      "/var/folders/9b/4_3pqpvx3fs3ccpkbgvs21n40000gp/T/ipykernel_820/4140350655.py:4: VisibleDeprecationWarning: Creating an ndarray from ragged nested sequences (which is a list-or-tuple of lists-or-tuples-or ndarrays with different lengths or shapes) is deprecated. If you meant to do this, you must specify 'dtype=object' when creating the ndarray.\n",
      "  y=np.array([np.array(xi) for xi in predict_data_lol])\n"
     ]
    }
   ],
   "source": [
    "# for converting data to array\n",
    "y=np.array([np.array(xi) for xi in predict_data_lol])\n"
   ]
  },
  {
   "cell_type": "code",
   "execution_count": 28,
   "id": "ac78ce3c",
   "metadata": {},
   "outputs": [
    {
     "data": {
      "text/plain": [
       "array([array(['1.16', '1.16', '1.16', '1.16'], dtype='<U4'),\n",
       "       array(['2.91'], dtype='<U4'), array(['1.80'], dtype='<U4'),\n",
       "       array(['1.19'], dtype='<U4')], dtype=object)"
      ]
     },
     "execution_count": 28,
     "metadata": {},
     "output_type": "execute_result"
    }
   ],
   "source": [
    "y"
   ]
  },
  {
   "cell_type": "code",
   "execution_count": null,
   "id": "26f0f865",
   "metadata": {},
   "outputs": [],
   "source": []
  },
  {
   "cell_type": "code",
   "execution_count": null,
   "id": "d0de5d6a",
   "metadata": {},
   "outputs": [],
   "source": []
  },
  {
   "cell_type": "code",
   "execution_count": null,
   "id": "21cae3c7",
   "metadata": {},
   "outputs": [],
   "source": []
  }
 ],
 "metadata": {
  "kernelspec": {
   "display_name": "Python 3 (ipykernel)",
   "language": "python",
   "name": "python3"
  },
  "language_info": {
   "codemirror_mode": {
    "name": "ipython",
    "version": 3
   },
   "file_extension": ".py",
   "mimetype": "text/x-python",
   "name": "python",
   "nbconvert_exporter": "python",
   "pygments_lexer": "ipython3",
   "version": "3.8.16"
  }
 },
 "nbformat": 4,
 "nbformat_minor": 5
}
